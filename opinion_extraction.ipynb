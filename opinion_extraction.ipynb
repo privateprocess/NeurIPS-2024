{
 "cells": [
  {
   "cell_type": "code",
   "execution_count": 2,
   "metadata": {},
   "outputs": [],
   "source": [
    "import os\n",
    "from constants import *\n",
    "\n",
    "os.environ[\"PPLX_API_KEY\"] = PPLX_API_KEY\n",
    "os.environ[\"OPENAI_API_KEY\"] = OPENAI_API_KEY\n",
    "\n",
    "os.environ[\"LANGCHAIN_API_KEY\"] = LANGCHAIN_API_KEY"
   ]
  },
  {
   "cell_type": "code",
   "execution_count": 3,
   "metadata": {},
   "outputs": [],
   "source": [
    "from langchain_community.chat_models import ChatPerplexity\n",
    "from langchain_openai import ChatOpenAI, OpenAIEmbeddings\n",
    "from langchain.chains import OpenAIModerationChain\n",
    "from langchain_core.prompts import ChatPromptTemplate\n",
    "\n",
    "import asyncio\n",
    "import pandas as pd\n",
    "import numpy as np"
   ]
  },
  {
   "cell_type": "code",
   "execution_count": 4,
   "metadata": {},
   "outputs": [],
   "source": [
    "import re\n",
    "path = \"data/reddit_opinion_climate_change.csv\" # June 12\n",
    "df = pd.read_csv(path)"
   ]
  },
  {
   "cell_type": "code",
   "execution_count": 5,
   "metadata": {},
   "outputs": [
    {
     "data": {
      "text/plain": [
       "533810"
      ]
     },
     "execution_count": 5,
     "metadata": {},
     "output_type": "execute_result"
    }
   ],
   "source": [
    "df_deduplicated = df.drop_duplicates(subset='self_text', keep='first')\n",
    "len(df_deduplicated)"
   ]
  },
  {
   "cell_type": "code",
   "execution_count": 6,
   "metadata": {},
   "outputs": [
    {
     "name": "stderr",
     "output_type": "stream",
     "text": [
      "/tmp/ipykernel_445911/1880932053.py:1: UserWarning: Boolean Series key will be reindexed to match DataFrame index.\n",
      "  working_series = df_deduplicated[df['subreddit']=='climate']\n"
     ]
    },
    {
     "data": {
      "text/html": [
       "<div>\n",
       "<style scoped>\n",
       "    .dataframe tbody tr th:only-of-type {\n",
       "        vertical-align: middle;\n",
       "    }\n",
       "\n",
       "    .dataframe tbody tr th {\n",
       "        vertical-align: top;\n",
       "    }\n",
       "\n",
       "    .dataframe thead th {\n",
       "        text-align: right;\n",
       "    }\n",
       "</style>\n",
       "<table border=\"1\" class=\"dataframe\">\n",
       "  <thead>\n",
       "    <tr style=\"text-align: right;\">\n",
       "      <th></th>\n",
       "      <th>comment_id</th>\n",
       "      <th>score</th>\n",
       "      <th>self_text</th>\n",
       "      <th>subreddit</th>\n",
       "      <th>created_time</th>\n",
       "      <th>post_id</th>\n",
       "      <th>author_name</th>\n",
       "      <th>controversiality</th>\n",
       "      <th>ups</th>\n",
       "      <th>downs</th>\n",
       "      <th>...</th>\n",
       "      <th>user_link_karma</th>\n",
       "      <th>user_comment_karma</th>\n",
       "      <th>user_total_karma</th>\n",
       "      <th>post_score</th>\n",
       "      <th>post_self_text</th>\n",
       "      <th>post_title</th>\n",
       "      <th>post_upvote_ratio</th>\n",
       "      <th>post_thumbs_ups</th>\n",
       "      <th>post_total_awards_received</th>\n",
       "      <th>post_created_time</th>\n",
       "    </tr>\n",
       "  </thead>\n",
       "  <tbody>\n",
       "    <tr>\n",
       "      <th>5</th>\n",
       "      <td>l8ahr59</td>\n",
       "      <td>1</td>\n",
       "      <td>They were inhaling those green house gases. Th...</td>\n",
       "      <td>climate</td>\n",
       "      <td>2024-06-12 16:34:03</td>\n",
       "      <td>1de2pfn</td>\n",
       "      <td>burkiniwax</td>\n",
       "      <td>0</td>\n",
       "      <td>1</td>\n",
       "      <td>0</td>\n",
       "      <td>...</td>\n",
       "      <td>7226.0</td>\n",
       "      <td>63681.0</td>\n",
       "      <td>78790.0</td>\n",
       "      <td>293</td>\n",
       "      <td>NaN</td>\n",
       "      <td>Study finds human-caused nitrous oxide emissio...</td>\n",
       "      <td>1.00</td>\n",
       "      <td>293</td>\n",
       "      <td>0</td>\n",
       "      <td>2024-06-12 09:44:53</td>\n",
       "    </tr>\n",
       "    <tr>\n",
       "      <th>20</th>\n",
       "      <td>l8aesk6</td>\n",
       "      <td>1</td>\n",
       "      <td>I certainly appreciate this take, but it becom...</td>\n",
       "      <td>climate</td>\n",
       "      <td>2024-06-12 16:17:47</td>\n",
       "      <td>1ddeq7j</td>\n",
       "      <td>Borthwick</td>\n",
       "      <td>0</td>\n",
       "      <td>1</td>\n",
       "      <td>0</td>\n",
       "      <td>...</td>\n",
       "      <td>2910.0</td>\n",
       "      <td>52278.0</td>\n",
       "      <td>55447.0</td>\n",
       "      <td>611</td>\n",
       "      <td>NaN</td>\n",
       "      <td>Most Irish people underestimate the link betwe...</td>\n",
       "      <td>0.90</td>\n",
       "      <td>611</td>\n",
       "      <td>0</td>\n",
       "      <td>2024-06-11 13:56:02</td>\n",
       "    </tr>\n",
       "    <tr>\n",
       "      <th>25</th>\n",
       "      <td>l8aehzl</td>\n",
       "      <td>1</td>\n",
       "      <td>Where did I claim that I wanted DAC in the nea...</td>\n",
       "      <td>climate</td>\n",
       "      <td>2024-06-12 16:16:09</td>\n",
       "      <td>1ddgt4a</td>\n",
       "      <td>zypofaeser</td>\n",
       "      <td>0</td>\n",
       "      <td>1</td>\n",
       "      <td>0</td>\n",
       "      <td>...</td>\n",
       "      <td>549.0</td>\n",
       "      <td>61954.0</td>\n",
       "      <td>62906.0</td>\n",
       "      <td>108</td>\n",
       "      <td>NaN</td>\n",
       "      <td>Nuclear Power Is Hard. A Climate-Minded Billio...</td>\n",
       "      <td>0.86</td>\n",
       "      <td>108</td>\n",
       "      <td>0</td>\n",
       "      <td>2024-06-11 15:23:20</td>\n",
       "    </tr>\n",
       "  </tbody>\n",
       "</table>\n",
       "<p>3 rows × 24 columns</p>\n",
       "</div>"
      ],
      "text/plain": [
       "   comment_id  score                                          self_text  \\\n",
       "5     l8ahr59      1  They were inhaling those green house gases. Th...   \n",
       "20    l8aesk6      1  I certainly appreciate this take, but it becom...   \n",
       "25    l8aehzl      1  Where did I claim that I wanted DAC in the nea...   \n",
       "\n",
       "   subreddit         created_time  post_id author_name  controversiality  ups  \\\n",
       "5    climate  2024-06-12 16:34:03  1de2pfn  burkiniwax                 0    1   \n",
       "20   climate  2024-06-12 16:17:47  1ddeq7j   Borthwick                 0    1   \n",
       "25   climate  2024-06-12 16:16:09  1ddgt4a  zypofaeser                 0    1   \n",
       "\n",
       "    downs  ...  user_link_karma user_comment_karma  user_total_karma  \\\n",
       "5       0  ...           7226.0            63681.0           78790.0   \n",
       "20      0  ...           2910.0            52278.0           55447.0   \n",
       "25      0  ...            549.0            61954.0           62906.0   \n",
       "\n",
       "    post_score  post_self_text  \\\n",
       "5          293             NaN   \n",
       "20         611             NaN   \n",
       "25         108             NaN   \n",
       "\n",
       "                                           post_title  post_upvote_ratio  \\\n",
       "5   Study finds human-caused nitrous oxide emissio...               1.00   \n",
       "20  Most Irish people underestimate the link betwe...               0.90   \n",
       "25  Nuclear Power Is Hard. A Climate-Minded Billio...               0.86   \n",
       "\n",
       "    post_thumbs_ups post_total_awards_received    post_created_time  \n",
       "5               293                          0  2024-06-12 09:44:53  \n",
       "20              611                          0  2024-06-11 13:56:02  \n",
       "25              108                          0  2024-06-11 15:23:20  \n",
       "\n",
       "[3 rows x 24 columns]"
      ]
     },
     "execution_count": 6,
     "metadata": {},
     "output_type": "execute_result"
    }
   ],
   "source": [
    "working_series = df_deduplicated[df['subreddit']=='climate']\n",
    "working_series[:3]"
   ]
  },
  {
   "cell_type": "code",
   "execution_count": 7,
   "metadata": {},
   "outputs": [
    {
     "name": "stdout",
     "output_type": "stream",
     "text": [
      "Max: 8693\n",
      "Mean: 245.08213765855686\n"
     ]
    }
   ],
   "source": [
    "# Text Length\n",
    "print(\"Max:\", np.max(working_series['self_text'].apply(len)))\n",
    "print(\"Mean:\", np.mean(working_series['self_text'].apply(len)))"
   ]
  },
  {
   "cell_type": "code",
   "execution_count": 8,
   "metadata": {},
   "outputs": [],
   "source": [
    "import re \n",
    "\n",
    "def list_from_content(content, mstring):\n",
    "    pattern = f\"{mstring}(.*?){mstring}\"\n",
    "    match = re.search(pattern, content, re.DOTALL)\n",
    "\n",
    "    if match:\n",
    "        opinions_text = match.group().strip(mstring)\n",
    "        opinions_text = opinions_text.strip(\"\\n\")\n",
    "\n",
    "        opinions_list = [t.strip(\"\\n\") for t in opinions_text.split('- ')]\n",
    "        opinions_list.pop(0)  # empty string\n",
    "        \n",
    "        return opinions_list\n",
    "    else:\n",
    "        raise Exception(\"Invalid LLM output!\")\n",
    "\n",
    "\n",
    "async def extract_statements(text_input, context, agent, mstring, max_attempts=3):\n",
    "    \n",
    "    opinion_list = []\n",
    "    for i in range(max_attempts):\n",
    "        try:\n",
    "            content = agent.invoke({'input': text_input, \"context\": context, \"mstring\": mstring}).content\n",
    "            opinion_list = list_from_content(content, mstring)\n",
    "            break\n",
    "        except Exception:\n",
    "            continue\n",
    "    \n",
    "    if not opinion_list:\n",
    "        print(\"Message extraction failed/empty!\")\n",
    "\n",
    "    return opinion_list\n",
    "\n",
    "seg_human = \"\"\"\n",
    "Here are examples of segmentations.\n",
    "\n",
    "Context: Climate Change.\n",
    "Text Input: \"Is the Climate Crisis a Population Problem? “The balance of population in the past was controlled by death: it was ugly and unacceptable. The new balance is controlled by love.” – Hans Rosling #GlobalCarbonFeeAndDividendPetition\\n\\nWe are reaching peak fossil fuels because we have replaced them with renewable energy not because it is running out.\\n\\nElectric vehicle use is rising fast not just cars, but electric buses, tuk-tuks and scooters. Even electric bicycles are great for transport.\\n\\nThere are solutions for manufacturing and it is full electrification and slapping solar panels on the roof.\\n\\nSteel, Chemical fertilizers, and fine chemicals can all be produced by green hydrogen. We need to build the green hydrogen industry and we can get it done.  \\nThere is also the potential for the shipping industry to use green ammonia from this industry as well.\\n\\nI don't think you are up to date as to where our technology is right now.\"\n",
    "Output: \n",
    "Here is my thought process: [...]\n",
    "Therefore, I describe this person's perspective as follows.\n",
    "\n",
    "{mstring}\n",
    "- Fossil fuel usage is declining precisely because of rising renewable energy usage.\n",
    "- Immense applications in various industries brought by green energy.\n",
    "- Rapid rise in electric vehicle usage.\n",
    "- Full electrification is a solution for manufacturing.\n",
    "- Optimistic about production possibilities from green hydrogen. \n",
    "{mstring}\n",
    "\n",
    "\n",
    "Can you extract opinions and perspectives from the following input? Let's reason it out.\n",
    "Context: {context}\n",
    "Text Input: {input}\n",
    "\"\"\"\n",
    "\n",
    "system = \"\"\"\n",
    "You are a neutral, objective bot. Your task is to identify central opinions and perspectives in the text input.\n",
    "Analyse and understand the text input, then return a list encapsulated by marking strings ({mstring}). \n",
    "Please avoid repetition, and be as concise as possible.\n",
    "\"\"\"\n",
    "\n",
    "seg_prompt = ChatPromptTemplate.from_messages([(\"system\", system), (\"human\", seg_human)])    \n"
   ]
  },
  {
   "cell_type": "code",
   "execution_count": 9,
   "metadata": {},
   "outputs": [],
   "source": [
    "pplx_llm = ChatPerplexity(temperature=0.2, model=\"llama-3-70b-instruct\")\n",
    "openai_llm = ChatOpenAI(temperature=0.2, model=\"gpt-3.5-turbo\")\n",
    "pplx_small_llm = ChatPerplexity(temperature=0.2, model=\"llama-3-8b-instruct\")\n",
    "\n",
    "agent = seg_prompt | pplx_small_llm"
   ]
  },
  {
   "cell_type": "code",
   "execution_count": 10,
   "metadata": {},
   "outputs": [
    {
     "name": "stdout",
     "output_type": "stream",
     "text": [
      "Nuclear Power Is Hard. A Climate-Minded Billionaire Wants to Make It Easier. | The reactor being built by TerraPower, a start-up, won’t be finished until 2030 at the earliest\n",
      "\n",
      "Let's entertain the notion that you can do this.\n",
      "\n",
      "It is irrelevant to emissions cuts before 2040, let alone 2030. By the time your plan came off, we would be at 2C and on our way to 3C.\n",
      "____________________\n",
      "Here is my thought process:\n",
      "\n",
      "The text input presents a critical perspective on nuclear power as a solution to climate change. The author seems to be skeptical about the effectiveness of nuclear power in reducing emissions, particularly in the short term.\n",
      "\n",
      "Therefore, I describe this person's perspective as follows.\n",
      "\n",
      "###\n",
      "- Nuclear power is not a viable solution for emissions cuts before 2040 or 2030.\n",
      "- The author is skeptical about the impact of nuclear power on reducing emissions.\n",
      "- The author implies that nuclear power is not a timely solution to address climate change.\n",
      "###\n"
     ]
    }
   ],
   "source": [
    "# Testing the Prompt\n",
    "\n",
    "\n",
    "id = 42\n",
    "\n",
    "a = working_series[\"post_title\"].iloc[id] + \"\\n\\n\" + working_series[\"self_text\"].iloc[id]\n",
    "print(a)\n",
    "print(\"_\" *20)\n",
    "\n",
    "print(\n",
    "    agent.invoke({'input': a, 'context': \"climate change\", \"mstring\": '###'}).content\n",
    ")\n"
   ]
  },
  {
   "cell_type": "code",
   "execution_count": 13,
   "metadata": {},
   "outputs": [],
   "source": [
    "NUM_SAMPLES = 2000  # number of samples to extract from\n",
    "\n",
    "example = pd.DataFrame(working_series).sample(NUM_SAMPLES, random_state=42)\n",
    "\n",
    "full_text = example['post_title'] + \"\\n\\n\" + example['self_text']\n",
    "full_text = full_text.to_list()\n",
    "full_context = \"Subreddit: \" + example[\"subreddit\"]\n",
    "full_context = full_context.to_list()\n",
    "\n",
    "mstring = \"###\""
   ]
  },
  {
   "cell_type": "markdown",
   "metadata": {},
   "source": [
    "---"
   ]
  },
  {
   "cell_type": "code",
   "execution_count": 14,
   "metadata": {},
   "outputs": [
    {
     "name": "stdout",
     "output_type": "stream",
     "text": [
      "Message extraction failed/empty!\n",
      "Message extraction failed/empty!\n",
      "Extraction Complete. Unsuccessful: 2\n"
     ]
    }
   ],
   "source": [
    "### RUN ONLY IF NECESSARY; The expensive, time consuming extraction step.\n",
    "\n",
    "extraction = await asyncio.gather(\n",
    "    *[extract_statements(t, c, agent, mstring) for t,c in zip(full_text, full_context)]\n",
    ")\n",
    "\n",
    "print(\"Extraction Complete. Unsuccessful:\", extraction.count([]))"
   ]
  },
  {
   "cell_type": "markdown",
   "metadata": {},
   "source": [
    "---"
   ]
  },
  {
   "cell_type": "code",
   "execution_count": null,
   "metadata": {},
   "outputs": [],
   "source": [
    "example[\"extraction\"] = extraction\n",
    "example.to_csv(\"climate.csv\")"
   ]
  }
 ],
 "metadata": {
  "kernelspec": {
   "display_name": ".venv",
   "language": "python",
   "name": "python3"
  },
  "language_info": {
   "codemirror_mode": {
    "name": "ipython",
    "version": 3
   },
   "file_extension": ".py",
   "mimetype": "text/x-python",
   "name": "python",
   "nbconvert_exporter": "python",
   "pygments_lexer": "ipython3",
   "version": "3.10.12"
  }
 },
 "nbformat": 4,
 "nbformat_minor": 2
}
